{
 "cells": [
  {
   "cell_type": "code",
   "execution_count": 2,
   "id": "8912b16a-8e23-4aa3-94d9-480fa8bc0fbd",
   "metadata": {},
   "outputs": [],
   "source": [
    "from langchain.prompts import PromptTemplate\n",
    "from langchain.chains import LLMChain\n",
    "from langchain_groq import ChatGroq\n",
    "from dotenv import load_dotenv\n",
    "import pandas_ta as ta\n",
    "import requests as r\n",
    "import pandas as pd\n",
    "import numpy as np\n",
    "import os"
   ]
  },
  {
   "cell_type": "code",
   "execution_count": 25,
   "id": "9f6f4408-adee-4da9-a361-338234e5badc",
   "metadata": {},
   "outputs": [],
   "source": [
    "load_dotenv()\n",
    "API_KEY = os.getenv(\"GROQ_API_KEY\")\n",
    "\n",
    "llm = ChatGroq(\n",
    "    model=\"llama-3.3-70b-specdec\",\n",
    "    temperature=1.5,\n",
    "    groq_api_key=API_KEY\n",
    ")"
   ]
  },
  {
   "cell_type": "code",
   "execution_count": 26,
   "id": "a9e7933d-b77b-456b-b85c-ea6a908abbf2",
   "metadata": {},
   "outputs": [],
   "source": [
    "def get_cryptocompare_data(fsym, tsym, limit):\n",
    "    url = f'https://min-api.cryptocompare.com/data/v2/histoday'\n",
    "    params = {\n",
    "        'fsym': fsym,\n",
    "        'tsym': tsym,\n",
    "        'limit': limit\n",
    "    }\n",
    "    response = r.get(url, params=params)\n",
    "    data = response.json()\n",
    "\n",
    "    df = pd.DataFrame(data['Data']['Data'])\n",
    "    df['time'] = pd.to_datetime(df['time'], unit='s')\n",
    "    df.set_index('time', inplace=True)\n",
    "\n",
    "    return df"
   ]
  },
  {
   "cell_type": "code",
   "execution_count": 27,
   "id": "f2dac41f-442b-4d46-96b4-271dba92e4b4",
   "metadata": {},
   "outputs": [
    {
     "data": {
      "text/html": [
       "<div>\n",
       "<style scoped>\n",
       "    .dataframe tbody tr th:only-of-type {\n",
       "        vertical-align: middle;\n",
       "    }\n",
       "\n",
       "    .dataframe tbody tr th {\n",
       "        vertical-align: top;\n",
       "    }\n",
       "\n",
       "    .dataframe thead th {\n",
       "        text-align: right;\n",
       "    }\n",
       "</style>\n",
       "<table border=\"1\" class=\"dataframe\">\n",
       "  <thead>\n",
       "    <tr style=\"text-align: right;\">\n",
       "      <th></th>\n",
       "      <th>high</th>\n",
       "      <th>low</th>\n",
       "      <th>open</th>\n",
       "      <th>volumefrom</th>\n",
       "      <th>volumeto</th>\n",
       "      <th>close</th>\n",
       "      <th>conversionType</th>\n",
       "      <th>conversionSymbol</th>\n",
       "    </tr>\n",
       "    <tr>\n",
       "      <th>time</th>\n",
       "      <th></th>\n",
       "      <th></th>\n",
       "      <th></th>\n",
       "      <th></th>\n",
       "      <th></th>\n",
       "      <th></th>\n",
       "      <th></th>\n",
       "      <th></th>\n",
       "    </tr>\n",
       "  </thead>\n",
       "  <tbody>\n",
       "    <tr>\n",
       "      <th>2025-02-09</th>\n",
       "      <td>97323.27</td>\n",
       "      <td>94714.99</td>\n",
       "      <td>96450.23</td>\n",
       "      <td>48848.81</td>\n",
       "      <td>4.701023e+09</td>\n",
       "      <td>96466.86</td>\n",
       "      <td>direct</td>\n",
       "      <td></td>\n",
       "    </tr>\n",
       "    <tr>\n",
       "      <th>2025-02-10</th>\n",
       "      <td>98349.12</td>\n",
       "      <td>95255.03</td>\n",
       "      <td>96466.86</td>\n",
       "      <td>71854.51</td>\n",
       "      <td>6.979529e+09</td>\n",
       "      <td>97435.16</td>\n",
       "      <td>direct</td>\n",
       "      <td></td>\n",
       "    </tr>\n",
       "    <tr>\n",
       "      <th>2025-02-11</th>\n",
       "      <td>98485.05</td>\n",
       "      <td>94871.80</td>\n",
       "      <td>97435.16</td>\n",
       "      <td>67733.23</td>\n",
       "      <td>6.557425e+09</td>\n",
       "      <td>95782.97</td>\n",
       "      <td>direct</td>\n",
       "      <td></td>\n",
       "    </tr>\n",
       "    <tr>\n",
       "      <th>2025-02-12</th>\n",
       "      <td>98122.41</td>\n",
       "      <td>94124.49</td>\n",
       "      <td>95782.97</td>\n",
       "      <td>95212.36</td>\n",
       "      <td>9.145511e+09</td>\n",
       "      <td>97868.59</td>\n",
       "      <td>direct</td>\n",
       "      <td></td>\n",
       "    </tr>\n",
       "    <tr>\n",
       "      <th>2025-02-13</th>\n",
       "      <td>98086.52</td>\n",
       "      <td>95723.69</td>\n",
       "      <td>97868.59</td>\n",
       "      <td>19457.87</td>\n",
       "      <td>1.884693e+09</td>\n",
       "      <td>95965.31</td>\n",
       "      <td>direct</td>\n",
       "      <td></td>\n",
       "    </tr>\n",
       "  </tbody>\n",
       "</table>\n",
       "</div>"
      ],
      "text/plain": [
       "                high       low      open  volumefrom      volumeto     close  \\\n",
       "time                                                                           \n",
       "2025-02-09  97323.27  94714.99  96450.23    48848.81  4.701023e+09  96466.86   \n",
       "2025-02-10  98349.12  95255.03  96466.86    71854.51  6.979529e+09  97435.16   \n",
       "2025-02-11  98485.05  94871.80  97435.16    67733.23  6.557425e+09  95782.97   \n",
       "2025-02-12  98122.41  94124.49  95782.97    95212.36  9.145511e+09  97868.59   \n",
       "2025-02-13  98086.52  95723.69  97868.59    19457.87  1.884693e+09  95965.31   \n",
       "\n",
       "           conversionType conversionSymbol  \n",
       "time                                        \n",
       "2025-02-09         direct                   \n",
       "2025-02-10         direct                   \n",
       "2025-02-11         direct                   \n",
       "2025-02-12         direct                   \n",
       "2025-02-13         direct                   "
      ]
     },
     "execution_count": 27,
     "metadata": {},
     "output_type": "execute_result"
    }
   ],
   "source": [
    "df = get_cryptocompare_data('BTC', 'USDT', 30)\n",
    "df.tail()"
   ]
  },
  {
   "cell_type": "code",
   "execution_count": 28,
   "id": "4f84cf05-c713-457c-8dbc-2d8f28463002",
   "metadata": {
    "scrolled": true
   },
   "outputs": [],
   "source": [
    "df.drop(df.tail(1).index,inplace=True)\n",
    "# Some technical analysis indicators that helps improving the model's accuracy\n",
    "df['rsi'] = ta.rsi(df['close'], length=14)\n",
    "\n",
    "df['ema10'] = ta.ema(df['close'], length=10)\n",
    "\n",
    "df[\"sma10\"] = ta.sma(df['close'], length=10)\n",
    "\n",
    "macd = ta.macd(df['close'], fast=10, slow=20, signal=9)\n",
    "df['macd'] = macd['MACD_10_20_9']\n",
    "df['macd_signal'] = macd['MACDs_10_20_9']\n",
    "\n",
    "# bbands = ta.bbands(df['close'], length=20, std=2)\n",
    "# df['bb_upper'] = bbands['BBU_20_2.0']\n",
    "# df['bb_middle'] = bbands['BBM_20_2.0']\n",
    "# df['bb_lower'] = bbands['BBL_20_2.0']\n",
    "\n",
    "df['atr'] = ta.atr(df['high'], df['low'], df['close'], length=14)\n",
    "\n",
    "# Taking the close value of the next row(day)\n",
    "\n",
    "df.dropna(inplace=True)\n",
    "df.reset_index(inplace=True)\n",
    "df.drop([\"conversionType\", \"conversionSymbol\"], axis=1, inplace=True)"
   ]
  },
  {
   "cell_type": "code",
   "execution_count": 29,
   "id": "5601410c-1e80-4bf4-b8a6-0e86871463bf",
   "metadata": {},
   "outputs": [
    {
     "data": {
      "text/html": [
       "<div>\n",
       "<style scoped>\n",
       "    .dataframe tbody tr th:only-of-type {\n",
       "        vertical-align: middle;\n",
       "    }\n",
       "\n",
       "    .dataframe tbody tr th {\n",
       "        vertical-align: top;\n",
       "    }\n",
       "\n",
       "    .dataframe thead th {\n",
       "        text-align: right;\n",
       "    }\n",
       "</style>\n",
       "<table border=\"1\" class=\"dataframe\">\n",
       "  <thead>\n",
       "    <tr style=\"text-align: right;\">\n",
       "      <th></th>\n",
       "      <th>time</th>\n",
       "      <th>high</th>\n",
       "      <th>low</th>\n",
       "      <th>open</th>\n",
       "      <th>volumefrom</th>\n",
       "      <th>volumeto</th>\n",
       "      <th>close</th>\n",
       "      <th>rsi</th>\n",
       "      <th>ema10</th>\n",
       "      <th>sma10</th>\n",
       "      <th>macd</th>\n",
       "      <th>macd_signal</th>\n",
       "      <th>atr</th>\n",
       "    </tr>\n",
       "  </thead>\n",
       "  <tbody>\n",
       "    <tr>\n",
       "      <th>0</th>\n",
       "      <td>2025-02-10</td>\n",
       "      <td>98349.12</td>\n",
       "      <td>95255.03</td>\n",
       "      <td>96466.86</td>\n",
       "      <td>71854.51</td>\n",
       "      <td>6.979529e+09</td>\n",
       "      <td>97435.16</td>\n",
       "      <td>43.878549</td>\n",
       "      <td>97998.880658</td>\n",
       "      <td>97744.781</td>\n",
       "      <td>-1535.077165</td>\n",
       "      <td>-1250.423707</td>\n",
       "      <td>4111.373958</td>\n",
       "    </tr>\n",
       "    <tr>\n",
       "      <th>1</th>\n",
       "      <td>2025-02-11</td>\n",
       "      <td>98485.05</td>\n",
       "      <td>94871.80</td>\n",
       "      <td>97435.16</td>\n",
       "      <td>67733.23</td>\n",
       "      <td>6.557425e+09</td>\n",
       "      <td>95782.97</td>\n",
       "      <td>39.653993</td>\n",
       "      <td>97595.987811</td>\n",
       "      <td>97259.551</td>\n",
       "      <td>-1580.733076</td>\n",
       "      <td>-1316.485581</td>\n",
       "      <td>4070.685039</td>\n",
       "    </tr>\n",
       "    <tr>\n",
       "      <th>2</th>\n",
       "      <td>2025-02-12</td>\n",
       "      <td>98122.41</td>\n",
       "      <td>94124.49</td>\n",
       "      <td>95782.97</td>\n",
       "      <td>95212.36</td>\n",
       "      <td>9.145511e+09</td>\n",
       "      <td>97868.59</td>\n",
       "      <td>46.638229</td>\n",
       "      <td>97645.551845</td>\n",
       "      <td>97277.110</td>\n",
       "      <td>-1406.585148</td>\n",
       "      <td>-1334.505494</td>\n",
       "      <td>4064.801614</td>\n",
       "    </tr>\n",
       "  </tbody>\n",
       "</table>\n",
       "</div>"
      ],
      "text/plain": [
       "        time      high       low      open  volumefrom      volumeto  \\\n",
       "0 2025-02-10  98349.12  95255.03  96466.86    71854.51  6.979529e+09   \n",
       "1 2025-02-11  98485.05  94871.80  97435.16    67733.23  6.557425e+09   \n",
       "2 2025-02-12  98122.41  94124.49  95782.97    95212.36  9.145511e+09   \n",
       "\n",
       "      close        rsi         ema10      sma10         macd  macd_signal  \\\n",
       "0  97435.16  43.878549  97998.880658  97744.781 -1535.077165 -1250.423707   \n",
       "1  95782.97  39.653993  97595.987811  97259.551 -1580.733076 -1316.485581   \n",
       "2  97868.59  46.638229  97645.551845  97277.110 -1406.585148 -1334.505494   \n",
       "\n",
       "           atr  \n",
       "0  4111.373958  \n",
       "1  4070.685039  \n",
       "2  4064.801614  "
      ]
     },
     "execution_count": 29,
     "metadata": {},
     "output_type": "execute_result"
    }
   ],
   "source": [
    "df.tail()"
   ]
  },
  {
   "cell_type": "code",
   "execution_count": 30,
   "id": "5b136f37-b13c-42ff-9735-5f361301c01d",
   "metadata": {},
   "outputs": [],
   "source": [
    "prompt = PromptTemplate.from_template(\n",
    "    \"\"\"\n",
    "    You are a financial AI assistant specialized in cryptocurrency price prediction.\n",
    "    Your task is to predict Bitcoin's closing price for the next day based on the past 30 days of historical data, which includes technical analysis indicators.  \n",
    "\n",
    "    ### Input Data Format:\n",
    "    The historical data is provided in a pandas DataFrame format with the following columns:\n",
    "    - `time`: The date of the recorded data (YYYY-MM-DD).\n",
    "    - `high`: The highest price of Bitcoin during the day.\n",
    "    - `low`: The lowest price of Bitcoin during the day.\n",
    "    - `open`: The opening price of Bitcoin.\n",
    "    - `close`: The closing price of Bitcoin.\n",
    "    - `volumefrom`: The total number of Bitcoins traded.\n",
    "    - `volumeto`: The total traded value in the market.\n",
    "    - `rsi`: 14-day Relative Strength Index.\n",
    "    - `ema_10`: 10-day Exponential Moving Average.\n",
    "    - `macd`: MACD (Moving Average Convergence Divergence) value.\n",
    "    - `macd_signal`: Signal line of the MACD.\n",
    "    - `atr`: 14-day Average True Range.\n",
    "    \n",
    "    ### Task:\n",
    "    Analyze the given data and predict the closing price (`close`) for the next day based on the trends, patterns, and indicators.  \n",
    "    \n",
    "    ### Output Format:\n",
    "    Provide your prediction in JSON format. Only return your predictions(NO PEAMBLE!):\n",
    "      \"predicted_close\": <your_predicted_value>,\n",
    "      \"confidence_score\": <confidence_between_0_and_1>\n",
    "\n",
    "\n",
    "    ### Pandas DataFrame:\n",
    "    {df}\n",
    "    \"\"\"\n",
    ")\n"
   ]
  },
  {
   "cell_type": "code",
   "execution_count": 35,
   "id": "89f5b0a4-cd1f-40f3-af95-29ff8e235c21",
   "metadata": {},
   "outputs": [],
   "source": [
    "chain = LLMChain(llm=llm, prompt=prompt) \n",
    "res = chain.invoke({\"df\": df})"
   ]
  },
  {
   "cell_type": "code",
   "execution_count": 36,
   "id": "3670c166-0bab-4e9d-8346-65ea2000a6c2",
   "metadata": {
    "scrolled": true
   },
   "outputs": [
    {
     "name": "stdout",
     "output_type": "stream",
     "text": [
      "```json\n",
      "{\n",
      "  \"predicted_close\": 98845.67,\n",
      "  \"confidence_score\": 0.85\n",
      "}\n",
      "```\n"
     ]
    }
   ],
   "source": [
    "print(res[\"text\"])"
   ]
  },
  {
   "cell_type": "code",
   "execution_count": 37,
   "id": "14cbe94b-878b-4792-9210-b104e6f977a3",
   "metadata": {},
   "outputs": [],
   "source": [
    "import re\n",
    "output = res[\"text\"].split(\"```\")[1]\n",
    "# numbers = re.findall(r'\\d+\\.?\\d*', output)"
   ]
  },
  {
   "cell_type": "code",
   "execution_count": 38,
   "id": "e98ed200-dfc0-4bc4-aae5-1a5091efaef6",
   "metadata": {},
   "outputs": [
    {
     "data": {
      "text/plain": [
       "'json\\n{\\n  \"predicted_close\": 98845.67,\\n  \"confidence_score\": 0.85\\n}\\n'"
      ]
     },
     "execution_count": 38,
     "metadata": {},
     "output_type": "execute_result"
    }
   ],
   "source": [
    "output"
   ]
  },
  {
   "cell_type": "code",
   "execution_count": 19,
   "id": "a733f19f-8fca-4021-ac14-bc32f9bb51ff",
   "metadata": {},
   "outputs": [
    {
     "data": {
      "text/plain": [
       "['99215.19', '0.83']"
      ]
     },
     "execution_count": 19,
     "metadata": {},
     "output_type": "execute_result"
    }
   ],
   "source": [
    "numbers"
   ]
  },
  {
   "cell_type": "code",
   "execution_count": null,
   "id": "627ab739-22ca-47c6-ad79-436506957736",
   "metadata": {},
   "outputs": [],
   "source": []
  }
 ],
 "metadata": {
  "kernelspec": {
   "display_name": "Trainvenv",
   "language": "python",
   "name": "trainvenv"
  },
  "language_info": {
   "codemirror_mode": {
    "name": "ipython",
    "version": 3
   },
   "file_extension": ".py",
   "mimetype": "text/x-python",
   "name": "python",
   "nbconvert_exporter": "python",
   "pygments_lexer": "ipython3",
   "version": "3.9.20"
  }
 },
 "nbformat": 4,
 "nbformat_minor": 5
}
